{
 "cells": [
  {
   "cell_type": "code",
   "execution_count": 37,
   "id": "51ff02e6",
   "metadata": {},
   "outputs": [],
   "source": [
    "import pandas as ps\n",
    "from sklearn.tree import DecisionTreeClassifier\n",
    "from sklearn.model_selection import train_test_split\n",
    "from sklearn.metrics import accuracy_score\n",
    "from sklearn import tree\n",
    "\n",
    "music_data=ps.read_csv('music.csv')\n",
    "\n",
    "# Cleaning the dataset i.e; splitting the daatset to 2 one is input and other is output \n",
    "X=music_data.drop(columns=['genre'])\n",
    "y=music_data.genre\n",
    "\n",
    "model=DecisionTreeClassifier()\n",
    "\n",
    "#Training the model \n",
    "model.fit(X.values,y)\n",
    "\n",
    "#Asking our model to predict\n",
    "predictions = model.predict([ [21,1],[22,0] ])\n",
    "predictions\n",
    "\n",
    "\n",
    "#Calculating the accuracy of our predictions , So now we need to test\n",
    "# we create tuples using 80% for training and 20% for testing\n",
    "\n",
    "X_train , X_test , y_train , y_test = train_test_split(X,y, test_size=0.2)\n",
    "\n",
    "model.fit(X_train.values,y_train)\n",
    "\n",
    "\n",
    "predictions = model.predict(X_test.values)\n",
    "\n",
    "#Now we have testing output which is stored in predictions and we have model generated output y_test , so we need to compare these two to predict the accuracy\n",
    "\n",
    "scores=accuracy_score(y_test,predictions)\n",
    "\n",
    "#This score changes every time , this happens as the test set changes everytime\n",
    "scores\n",
    "\n",
    "\n",
    "\n",
    "# To visualize the Decision Tree\n",
    "tree.export_graphviz(model,'music-recommenders.dot',feature_names=['age','gender'],class_names=sorted(y.unique()),label='all',rounded=True,filled=True)\n",
    "\n",
    "#Instead of training our model with dataset everytime we can load the model into a file and simply call the file\n",
    "#joblib.dump(model,'music-recommender.joblib')\n",
    "\n",
    "#Now since our model is already trained an dstored in a file , we can simply load the file and make predictions\n",
    "# joblib.load('music-recommender.joblib')\n",
    "\n",
    "# #Asking our model to predict\n",
    "# predictions = model.predict([ [21,1],[22,0] ])\n",
    "# predictions"
   ]
  },
  {
   "cell_type": "code",
   "execution_count": null,
   "id": "dbe7bcb0",
   "metadata": {},
   "outputs": [],
   "source": []
  }
 ],
 "metadata": {
  "kernelspec": {
   "display_name": "Python 3 (ipykernel)",
   "language": "python",
   "name": "python3"
  },
  "language_info": {
   "codemirror_mode": {
    "name": "ipython",
    "version": 3
   },
   "file_extension": ".py",
   "mimetype": "text/x-python",
   "name": "python",
   "nbconvert_exporter": "python",
   "pygments_lexer": "ipython3",
   "version": "3.11.5"
  }
 },
 "nbformat": 4,
 "nbformat_minor": 5
}
